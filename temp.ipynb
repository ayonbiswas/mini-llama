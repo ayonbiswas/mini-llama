{
 "cells": [
  {
   "cell_type": "code",
   "execution_count": 6,
   "metadata": {},
   "outputs": [
    {
     "data": {
      "image/png": "[encoded data removed]",
      "text/plain": [
       "<Figure size 864x360 with 3 Axes>"
      ]
     },
     "metadata": {
      "needs_background": "light"
     },
     "output_type": "display_data"
    }
   ],
   "source": [
    "import numpy as np\n",
    "import matplotlib.pyplot as plt\n",
    "from matplotlib import colors\n",
    "\n",
    "# Create sample data\n",
    "data1 = np.random.uniform(-1, 1, (10, 10))\n",
    "data2 = np.random.uniform(-1, 1, (10, 10))\n",
    "\n",
    "# Define the boundaries for color segments\n",
    "bounds = [-1.0, -0.8, -0.6, -0.1, 0.0, 0.3, 0.7, 0.9, 1.0]\n",
    "\n",
    "# Define colors for each segment\n",
    "# Colors will be applied between each pair of bounds\n",
    "colrs = ['navy', 'blue', 'lightblue', 'whitesmoke',\n",
    "          'whitesmoke', 'lightsalmon', 'red', 'darkred']\n",
    "\n",
    "# Create a custom colormap and norm\n",
    "cmap = colors.ListedColormap(colrs)\n",
    "norm = colors.BoundaryNorm(bounds, cmap.N)\n",
    "\n",
    "# Create the plot\n",
    "fig, (ax1, ax2) = plt.subplots(1, 2, figsize=(12, 5))\n",
    "\n",
    "# Plot first subplot\n",
    "im1 = ax1.imshow(data1, cmap=cmap, norm=norm)\n",
    "ax1.set_title('Subplot 1')\n",
    "\n",
    "# Plot second subplot\n",
    "im2 = ax2.imshow(data2, cmap=cmap, norm=norm)\n",
    "ax2.set_title('Subplot 2')\n",
    "\n",
    "# Add colorbar\n",
    "cbar = fig.colorbar(im1, ax=[ax1, ax2], orientation='vertical',\n",
    "                    aspect=30, ticks=bounds)\n",
    "cbar.set_label('Values')\n",
    "\n",
    "# plt.tight_layout()\n",
    "plt.show()"
   ]
  },
  {
   "cell_type": "code",
   "execution_count": 1,
   "metadata": {},
   "outputs": [
    {
     "ename": "NameError",
     "evalue": "name 'plt' is not defined",
     "output_type": "error",
     "traceback": [
      "\u001b[0;31m---------------------------------------------------------------------------\u001b[0m",
      "\u001b[0;31mNameError\u001b[0m                                 Traceback (most recent call last)",
      "Input \u001b[0;32mIn [1]\u001b[0m, in \u001b[0;36m<cell line: 1>\u001b[0;34m()\u001b[0m\n\u001b[0;32m----> 1\u001b[0m \u001b[43mplt\u001b[49m\u001b[38;5;241m.\u001b[39mfigure(figsize\u001b[38;5;241m=\u001b[39m(\u001b[38;5;241m6\u001b[39m,\u001b[38;5;241m6\u001b[39m))  \u001b[38;5;66;03m# Slightly larger figure to accommodate colorbars\u001b[39;00m\n\u001b[1;32m      3\u001b[0m \u001b[38;5;66;03m# First row\u001b[39;00m\n\u001b[1;32m      4\u001b[0m plt\u001b[38;5;241m.\u001b[39msubplot(\u001b[38;5;241m2\u001b[39m,\u001b[38;5;241m2\u001b[39m,\u001b[38;5;241m1\u001b[39m)\n",
      "\u001b[0;31mNameError\u001b[0m: name 'plt' is not defined"
     ]
    }
   ],
   "source": [
    "plt.figure(figsize=(6,6))  # Slightly larger figure to accommodate colorbars\n",
    "\n",
    "# First row\n",
    "plt.subplot(2,2,1)\n",
    "im1 = plt.imshow(m2d_o_ph)\n",
    "plt.title('old_m2d')\n",
    "plt.axis('off')\n",
    "\n",
    "plt.subplot(2,2,2)\n",
    "im2 = plt.imshow(m2d_n_ph)\n",
    "plt.title('new_m2d')\n",
    "plt.axis('off')\n",
    "\n",
    "# Add colorbar for first row\n",
    "cax1 = plt.axes([0.92, 0.53, 0.02, 0.35])  # [left, bottom, width, height]\n",
    "plt.colorbar(im1, cax=cax1)\n",
    "\n",
    "# Second row\n",
    "plt.subplot(2,2,3)\n",
    "im3 = plt.imshow(m3d_o_ph)\n",
    "plt.title('old_m3d')\n",
    "plt.axis('off')\n",
    "\n",
    "plt.subplot(2,2,4)\n",
    "im4 = plt.imshow(m3d_n_ph)\n",
    "plt.title('new_m3d')\n",
    "plt.axis('off')\n",
    "\n",
    "# Add colorbar for second row\n",
    "cax2 = plt.axes([0.92, 0.11, 0.02, 0.35])  # [left, bottom, width, height]\n",
    "plt.colorbar(im3, cax=cax2)\n",
    "\n",
    "plt.tight_layout(rect=[0, 0, 0.9, 1])  # Adjust layout to make room for colorbars"
   ]
  },
  {
   "cell_type": "code",
   "execution_count": 2,
   "metadata": {},
   "outputs": [
    {
     "name": "stdout",
     "output_type": "stream",
     "text": [
      "Original: [1. 2. 3. 4.]\n",
      "After RoPE: [-1.14263966  1.9220756   2.95985067  4.0297995 ]\n"
     ]
    }
   ],
   "source": [
    "import numpy as np\n",
    "\n",
    "# Simplified RoPE implementation\n",
    "def apply_rope(embedding, position, base=10000):\n",
    "    # Each pair of dimensions represents a complex number\n",
    "    dim = len(embedding)\n",
    "    \n",
    "    # Create rotation angles for each dimension pair\n",
    "    theta = position / base ** (np.arange(0, dim, 2) / dim)\n",
    "    \n",
    "    # For each pair of dimensions (treating them as real/imaginary parts)\n",
    "    for i in range(0, dim-1, 2):\n",
    "        # Get the complex number components\n",
    "        x = embedding[i]\n",
    "        y = embedding[i+1]\n",
    "        \n",
    "        # Apply rotation using complex number multiplication\n",
    "        cos_theta = np.cos(theta[i//2])\n",
    "        sin_theta = np.sin(theta[i//2])\n",
    "        \n",
    "        # Rotate the complex number\n",
    "        embedding[i] = x * cos_theta - y * sin_theta\n",
    "        embedding[i+1] = x * sin_theta + y * cos_theta\n",
    "    \n",
    "    return embedding\n",
    "\n",
    "# Example usage\n",
    "token_embedding = np.array([1.0, 2.0, 3.0, 4.0])  # 2 complex numbers\n",
    "position = 1\n",
    "\n",
    "rotated = apply_rope(token_embedding.copy(), position)\n",
    "print(f\"Original: {token_embedding}\")\n",
    "print(f\"After RoPE: {rotated}\")"
   ]
  },
  {
   "cell_type": "code",
   "execution_count": 4,
   "metadata": {},
   "outputs": [],
   "source": [
    "import numpy as np\n",
    "a = np.arange(10)\n",
    "block_size = 5"
   ]
  },
  {
   "cell_type": "code",
   "execution_count": 5,
   "metadata": {},
   "outputs": [
    {
     "data": {
      "text/plain": [
       "array([0, 1, 2, 3, 4])"
      ]
     },
     "execution_count": 5,
     "metadata": {},
     "output_type": "execute_result"
    }
   ],
   "source": [
    "a[:-5]"
   ]
  },
  {
   "cell_type": "code",
   "execution_count": 6,
   "metadata": {},
   "outputs": [
    {
     "data": {
      "text/plain": [
       "array([5, 6, 7, 8, 9])"
      ]
     },
     "execution_count": 6,
     "metadata": {},
     "output_type": "execute_result"
    }
   ],
   "source": [
    "a[-5:]"
   ]
  },
  {
   "cell_type": "code",
   "execution_count": 3,
   "metadata": {},
   "outputs": [],
   "source": [
    "import numpy as np"
   ]
  },
  {
   "cell_type": "code",
   "execution_count": 2,
   "metadata": {},
   "outputs": [],
   "source": [
    "a = np.random.rand(2,3)\n",
    "b = np.random.rand(2,1)"
   ]
  },
  {
   "cell_type": "code",
   "execution_count": 3,
   "metadata": {},
   "outputs": [],
   "source": [
    "c = a + b"
   ]
  },
  {
   "cell_type": "code",
   "execution_count": 4,
   "metadata": {},
   "outputs": [
    {
     "data": {
      "text/plain": [
       "(2, 3)"
      ]
     },
     "execution_count": 4,
     "metadata": {},
     "output_type": "execute_result"
    }
   ],
   "source": [
    "c.shape"
   ]
  },
  {
   "cell_type": "code",
   "execution_count": 4,
   "metadata": {},
   "outputs": [],
   "source": [
    "a = [[1,2], [3,4], [1,1]]"
   ]
  },
  {
   "cell_type": "code",
   "execution_count": 6,
   "metadata": {},
   "outputs": [
    {
     "data": {
      "text/plain": [
       "array([3, 7, 2])"
      ]
     },
     "execution_count": 6,
     "metadata": {},
     "output_type": "execute_result"
    }
   ],
   "source": [
    "np.sum(a, 1)"
   ]
  },
  {
   "cell_type": "code",
   "execution_count": null,
   "metadata": {},
   "outputs": [],
   "source": []
  }
 ],
 "metadata": {
  "kernelspec": {
   "display_name": "torch_env",
   "language": "python",
   "name": "python3"
  },
  "language_info": {
   "codemirror_mode": {
    "name": "ipython",
    "version": 3
   },
   "file_extension": ".py",
   "mimetype": "text/x-python",
   "name": "python",
   "nbconvert_exporter": "python",
   "pygments_lexer": "ipython3",
   "version": "3.10.9"
  }
 },
 "nbformat": 4,
 "nbformat_minor": 2
}
